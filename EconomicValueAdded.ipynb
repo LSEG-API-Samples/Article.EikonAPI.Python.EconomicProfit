{
 "cells": [
  {
   "cell_type": "markdown",
   "metadata": {},
   "source": [
    "# Economic Value Added"
   ]
  },
  {
   "cell_type": "markdown",
   "metadata": {},
   "source": [
    "Economic value added (EVA) is an estimate of a company's economic profit. It measures how much a firm's returns exceed those required by suppliers of capital. In other words it tells one how much wealth the firm has created for company shareholders. EVA is the net profit less the capital charge for raising the company's capital. The idea is that value is created when the return on the firm's economic capital employed exceeds the cost of that capital.\n",
    "There are two ways to calculate EVA. The first one is\n",
    ">EVA = NOPAT - WACC * Total Capital\n",
    "\n",
    "In the above formula NOPAT is the net operating profit after tax, WACC is weighted average cost of capital and Total Capital is the sum of debt and equity.\n",
    "\n",
    "The second formula for EVA is\n",
    ">EVA = EBIT * (1 - t) - \\\\$WACC\n",
    "\n",
    "Here EBIT is earnings before interest and tax, t is the marginal tax rate and \\\\$WACC is the dollar cost of capital.\n",
    "\n",
    "In this example we're using the first formula to calculate EVA"
   ]
  },
  {
   "cell_type": "code",
   "execution_count": 1,
   "metadata": {},
   "outputs": [],
   "source": [
    "import pandas as pd\n",
    "import datetime as dt\n",
    "import numpy as np\n",
    "import os\n",
    "import matplotlib\n",
    "%matplotlib inline\n",
    "import eikon as ek\n",
    "# replace this with your Eikon API key\n",
    "EIKON_APP_KEY = os.environ.get('EIKON_APP_KEY')\n",
    "if EIKON_APP_KEY==None:\n",
    "    print('App key is needed to retrieve data from Eikon. Generate your app key and use it in ek.set_app_key call.')\n",
    "else:\n",
    "    ek.set_app_key(EIKON_APP_KEY)"
   ]
  },
  {
   "cell_type": "code",
   "execution_count": 2,
   "metadata": {},
   "outputs": [],
   "source": [
    "#Input stock RIC of a company\n",
    "stock_ric = 'IBM.N'"
   ]
  },
  {
   "cell_type": "code",
   "execution_count": 3,
   "metadata": {},
   "outputs": [
    {
     "data": {
      "text/html": [
       "<div>\n",
       "<style scoped>\n",
       "    .dataframe tbody tr th:only-of-type {\n",
       "        vertical-align: middle;\n",
       "    }\n",
       "\n",
       "    .dataframe tbody tr th {\n",
       "        vertical-align: top;\n",
       "    }\n",
       "\n",
       "    .dataframe thead th {\n",
       "        text-align: right;\n",
       "    }\n",
       "</style>\n",
       "<table border=\"1\" class=\"dataframe\">\n",
       "  <thead>\n",
       "    <tr style=\"text-align: right;\">\n",
       "      <th>Instrument</th>\n",
       "      <th>IBM.N</th>\n",
       "    </tr>\n",
       "  </thead>\n",
       "  <tbody>\n",
       "    <tr>\n",
       "      <th>Company Common Name</th>\n",
       "      <td>International Business Machines Corp</td>\n",
       "    </tr>\n",
       "    <tr>\n",
       "      <th>Country of Headquarters</th>\n",
       "      <td>United States of America</td>\n",
       "    </tr>\n",
       "    <tr>\n",
       "      <th>Exchange Name</th>\n",
       "      <td>NEW YORK STOCK EXCHANGE, INC.</td>\n",
       "    </tr>\n",
       "    <tr>\n",
       "      <th>TRBC Industry Group Name</th>\n",
       "      <td>Software &amp; IT Services</td>\n",
       "    </tr>\n",
       "    <tr>\n",
       "      <th>Currency Code</th>\n",
       "      <td>USD</td>\n",
       "    </tr>\n",
       "  </tbody>\n",
       "</table>\n",
       "</div>"
      ],
      "text/plain": [
       "Instrument                                               IBM.N\n",
       "Company Common Name       International Business Machines Corp\n",
       "Country of Headquarters               United States of America\n",
       "Exchange Name                    NEW YORK STOCK EXCHANGE, INC.\n",
       "TRBC Industry Group Name                Software & IT Services\n",
       "Currency Code                                              USD"
      ]
     },
     "metadata": {},
     "output_type": "display_data"
    }
   ],
   "source": [
    "company_info_df, err = ek.get_data(stock_ric,['TR.CommonName',\n",
    "                                              'TR.HeadquartersCountry',\n",
    "                                              'TR.ExchangeName',\n",
    "                                              'TR.TRBCIndustryGroup',\n",
    "                                              'TR.TRBCSector',\n",
    "                                              'TR.CompanyReportCurrency'])\n",
    "company_info_df = company_info_df.set_index(['Instrument'])\n",
    "curr = company_info_df.loc[stock_ric,'Currency Code']\n",
    "display(company_info_df.T)"
   ]
  },
  {
   "cell_type": "markdown",
   "metadata": {},
   "source": [
    "### NOPAT\n",
    "Net operating profit after tax (NOPAT) is a company's after-tax operating profit with certain adjustments. The adjustments may include removing the effects of goodwill and other non-cash items, treating R&D expenditure as an investment rather than a current expenditure and treating operating lease rentals as interest. In the example below we add supplemental rental expense to the operating income for the purpose of calculating NOPAT."
   ]
  },
  {
   "cell_type": "code",
   "execution_count": 4,
   "metadata": {},
   "outputs": [
    {
     "data": {
      "text/html": [
       "<style  type=\"text/css\" >\n",
       "</style><table id=\"T_652ea8fa_25c7_11ea_9148_a44e31167cd8\" ><thead>    <tr>        <th class=\"index_name level0\" >Period End Date</th>        <th class=\"col_heading level0 col0\" >2018-12-31</th>        <th class=\"col_heading level0 col1\" >2017-12-31</th>        <th class=\"col_heading level0 col2\" >2016-12-31</th>        <th class=\"col_heading level0 col3\" >2015-12-31</th>    </tr></thead><tbody>\n",
       "                <tr>\n",
       "                        <th id=\"T_652ea8fa_25c7_11ea_9148_a44e31167cd8level0_row0\" class=\"row_heading level0 row0\" >Operating Income</th>\n",
       "                        <td id=\"T_652ea8fa_25c7_11ea_9148_a44e31167cd8row0_col0\" class=\"data row0 col0\" >11,342</td>\n",
       "                        <td id=\"T_652ea8fa_25c7_11ea_9148_a44e31167cd8row0_col1\" class=\"data row0 col1\" >11,400</td>\n",
       "                        <td id=\"T_652ea8fa_25c7_11ea_9148_a44e31167cd8row0_col2\" class=\"data row0 col2\" >12,330</td>\n",
       "                        <td id=\"T_652ea8fa_25c7_11ea_9148_a44e31167cd8row0_col3\" class=\"data row0 col3\" >15,944</td>\n",
       "            </tr>\n",
       "            <tr>\n",
       "                        <th id=\"T_652ea8fa_25c7_11ea_9148_a44e31167cd8level0_row1\" class=\"row_heading level0 row1\" >Rental Expense, Supplemental</th>\n",
       "                        <td id=\"T_652ea8fa_25c7_11ea_9148_a44e31167cd8row1_col0\" class=\"data row1 col0\" >1,944</td>\n",
       "                        <td id=\"T_652ea8fa_25c7_11ea_9148_a44e31167cd8row1_col1\" class=\"data row1 col1\" >1,821</td>\n",
       "                        <td id=\"T_652ea8fa_25c7_11ea_9148_a44e31167cd8row1_col2\" class=\"data row1 col2\" >1,508</td>\n",
       "                        <td id=\"T_652ea8fa_25c7_11ea_9148_a44e31167cd8row1_col3\" class=\"data row1 col3\" >1,474</td>\n",
       "            </tr>\n",
       "            <tr>\n",
       "                        <th id=\"T_652ea8fa_25c7_11ea_9148_a44e31167cd8level0_row2\" class=\"row_heading level0 row2\" >Provision for Income Taxes</th>\n",
       "                        <td id=\"T_652ea8fa_25c7_11ea_9148_a44e31167cd8row2_col0\" class=\"data row2 col0\" >-582</td>\n",
       "                        <td id=\"T_652ea8fa_25c7_11ea_9148_a44e31167cd8row2_col1\" class=\"data row2 col1\" >-167</td>\n",
       "                        <td id=\"T_652ea8fa_25c7_11ea_9148_a44e31167cd8row2_col2\" class=\"data row2 col2\" >-449</td>\n",
       "                        <td id=\"T_652ea8fa_25c7_11ea_9148_a44e31167cd8row2_col3\" class=\"data row2 col3\" >-2,581</td>\n",
       "            </tr>\n",
       "            <tr>\n",
       "                        <th id=\"T_652ea8fa_25c7_11ea_9148_a44e31167cd8level0_row3\" class=\"row_heading level0 row3\" >Net Operating Profit After Tax</th>\n",
       "                        <td id=\"T_652ea8fa_25c7_11ea_9148_a44e31167cd8row3_col0\" class=\"data row3 col0\" >12,704</td>\n",
       "                        <td id=\"T_652ea8fa_25c7_11ea_9148_a44e31167cd8row3_col1\" class=\"data row3 col1\" >13,054</td>\n",
       "                        <td id=\"T_652ea8fa_25c7_11ea_9148_a44e31167cd8row3_col2\" class=\"data row3 col2\" >13,389</td>\n",
       "                        <td id=\"T_652ea8fa_25c7_11ea_9148_a44e31167cd8row3_col3\" class=\"data row3 col3\" >14,837</td>\n",
       "            </tr>\n",
       "    </tbody></table>"
      ],
      "text/plain": [
       "<pandas.io.formats.style.Styler at 0x1daa95fbac8>"
      ]
     },
     "metadata": {},
     "output_type": "display_data"
    }
   ],
   "source": [
    "nopat_df, err = ek.get_data(stock_ric, ['TR.OperatingIncome.ped',\n",
    "                                        'TR.OperatingIncome',\n",
    "                                        'TR.RentalExpenseSupplemental',\n",
    "                                        'TR.ProvisionForIncomeTaxes'],\n",
    "                           {'Scale':'6', 'Period':'FY0:FY-3', 'Frq':'FY'})\n",
    "nopat_df.drop('Instrument', axis=1, inplace=True)\n",
    "nopat_df = nopat_df.set_index(['Period End Date'])\n",
    "nopat_df['Provision for Income Taxes'] = -nopat_df['Provision for Income Taxes']\n",
    "nopat_df['Net Operating Profit After Tax'] = nopat_df.sum(axis=1)\n",
    "display(nopat_df.T.style.format('{:,.0f}'))"
   ]
  },
  {
   "cell_type": "markdown",
   "metadata": {},
   "source": [
    "### Total adjusted capital\n",
    "Total Adjusted Capital is calculated as sum of Total Debt and Equity adjusted for Goodwill Amortization, Present Value of Operating Lease Obligations and any other relevant adjustment depending upon the business."
   ]
  },
  {
   "cell_type": "code",
   "execution_count": 5,
   "metadata": {},
   "outputs": [
    {
     "data": {
      "text/html": [
       "<style  type=\"text/css\" >\n",
       "</style><table id=\"T_660ca91a_25c7_11ea_9563_a44e31167cd8\" ><thead>    <tr>        <th class=\"index_name level0\" >Period End Date</th>        <th class=\"col_heading level0 col0\" >2018-12-31</th>        <th class=\"col_heading level0 col1\" >2017-12-31</th>        <th class=\"col_heading level0 col2\" >2016-12-31</th>        <th class=\"col_heading level0 col3\" >2015-12-31</th>    </tr></thead><tbody>\n",
       "                <tr>\n",
       "                        <th id=\"T_660ca91a_25c7_11ea_9563_a44e31167cd8level0_row0\" class=\"row_heading level0 row0\" >Total Debt</th>\n",
       "                        <td id=\"T_660ca91a_25c7_11ea_9563_a44e31167cd8row0_col0\" class=\"data row0 col0\" >45,812</td>\n",
       "                        <td id=\"T_660ca91a_25c7_11ea_9563_a44e31167cd8row0_col1\" class=\"data row0 col1\" >46,824</td>\n",
       "                        <td id=\"T_660ca91a_25c7_11ea_9563_a44e31167cd8row0_col2\" class=\"data row0 col2\" >42,168</td>\n",
       "                        <td id=\"T_660ca91a_25c7_11ea_9563_a44e31167cd8row0_col3\" class=\"data row0 col3\" >39,889</td>\n",
       "            </tr>\n",
       "            <tr>\n",
       "                        <th id=\"T_660ca91a_25c7_11ea_9563_a44e31167cd8level0_row1\" class=\"row_heading level0 row1\" >Minority Interest</th>\n",
       "                        <td id=\"T_660ca91a_25c7_11ea_9563_a44e31167cd8row1_col0\" class=\"data row1 col0\" >134</td>\n",
       "                        <td id=\"T_660ca91a_25c7_11ea_9563_a44e31167cd8row1_col1\" class=\"data row1 col1\" >131</td>\n",
       "                        <td id=\"T_660ca91a_25c7_11ea_9563_a44e31167cd8row1_col2\" class=\"data row1 col2\" >146</td>\n",
       "                        <td id=\"T_660ca91a_25c7_11ea_9563_a44e31167cd8row1_col3\" class=\"data row1 col3\" >162</td>\n",
       "            </tr>\n",
       "            <tr>\n",
       "                        <th id=\"T_660ca91a_25c7_11ea_9563_a44e31167cd8level0_row2\" class=\"row_heading level0 row2\" >Redeemable Preferred Stock, Total</th>\n",
       "                        <td id=\"T_660ca91a_25c7_11ea_9563_a44e31167cd8row2_col0\" class=\"data row2 col0\" >nan</td>\n",
       "                        <td id=\"T_660ca91a_25c7_11ea_9563_a44e31167cd8row2_col1\" class=\"data row2 col1\" >nan</td>\n",
       "                        <td id=\"T_660ca91a_25c7_11ea_9563_a44e31167cd8row2_col2\" class=\"data row2 col2\" >nan</td>\n",
       "                        <td id=\"T_660ca91a_25c7_11ea_9563_a44e31167cd8row2_col3\" class=\"data row2 col3\" >nan</td>\n",
       "            </tr>\n",
       "            <tr>\n",
       "                        <th id=\"T_660ca91a_25c7_11ea_9563_a44e31167cd8level0_row3\" class=\"row_heading level0 row3\" >Preferred Stock - Non Redeemable, Net</th>\n",
       "                        <td id=\"T_660ca91a_25c7_11ea_9563_a44e31167cd8row3_col0\" class=\"data row3 col0\" >nan</td>\n",
       "                        <td id=\"T_660ca91a_25c7_11ea_9563_a44e31167cd8row3_col1\" class=\"data row3 col1\" >nan</td>\n",
       "                        <td id=\"T_660ca91a_25c7_11ea_9563_a44e31167cd8row3_col2\" class=\"data row3 col2\" >nan</td>\n",
       "                        <td id=\"T_660ca91a_25c7_11ea_9563_a44e31167cd8row3_col3\" class=\"data row3 col3\" >nan</td>\n",
       "            </tr>\n",
       "            <tr>\n",
       "                        <th id=\"T_660ca91a_25c7_11ea_9563_a44e31167cd8level0_row4\" class=\"row_heading level0 row4\" >Total Equity</th>\n",
       "                        <td id=\"T_660ca91a_25c7_11ea_9563_a44e31167cd8row4_col0\" class=\"data row4 col0\" >16,795</td>\n",
       "                        <td id=\"T_660ca91a_25c7_11ea_9563_a44e31167cd8row4_col1\" class=\"data row4 col1\" >17,594</td>\n",
       "                        <td id=\"T_660ca91a_25c7_11ea_9563_a44e31167cd8row4_col2\" class=\"data row4 col2\" >18,246</td>\n",
       "                        <td id=\"T_660ca91a_25c7_11ea_9563_a44e31167cd8row4_col3\" class=\"data row4 col3\" >14,262</td>\n",
       "            </tr>\n",
       "            <tr>\n",
       "                        <th id=\"T_660ca91a_25c7_11ea_9563_a44e31167cd8level0_row5\" class=\"row_heading level0 row5\" >Accumulated Goodwill Amortization Suppl.</th>\n",
       "                        <td id=\"T_660ca91a_25c7_11ea_9563_a44e31167cd8row5_col0\" class=\"data row5 col0\" >nan</td>\n",
       "                        <td id=\"T_660ca91a_25c7_11ea_9563_a44e31167cd8row5_col1\" class=\"data row5 col1\" >nan</td>\n",
       "                        <td id=\"T_660ca91a_25c7_11ea_9563_a44e31167cd8row5_col2\" class=\"data row5 col2\" >nan</td>\n",
       "                        <td id=\"T_660ca91a_25c7_11ea_9563_a44e31167cd8row5_col3\" class=\"data row5 col3\" >nan</td>\n",
       "            </tr>\n",
       "            <tr>\n",
       "                        <th id=\"T_660ca91a_25c7_11ea_9563_a44e31167cd8level0_row6\" class=\"row_heading level0 row6\" >Present Value of Operating Leases</th>\n",
       "                        <td id=\"T_660ca91a_25c7_11ea_9563_a44e31167cd8row6_col0\" class=\"data row6 col0\" >514</td>\n",
       "                        <td id=\"T_660ca91a_25c7_11ea_9563_a44e31167cd8row6_col1\" class=\"data row6 col1\" >543</td>\n",
       "                        <td id=\"T_660ca91a_25c7_11ea_9563_a44e31167cd8row6_col2\" class=\"data row6 col2\" >485</td>\n",
       "                        <td id=\"T_660ca91a_25c7_11ea_9563_a44e31167cd8row6_col3\" class=\"data row6 col3\" >459</td>\n",
       "            </tr>\n",
       "            <tr>\n",
       "                        <th id=\"T_660ca91a_25c7_11ea_9563_a44e31167cd8level0_row7\" class=\"row_heading level0 row7\" >Total Adjusted Capital</th>\n",
       "                        <td id=\"T_660ca91a_25c7_11ea_9563_a44e31167cd8row7_col0\" class=\"data row7 col0\" >63,255</td>\n",
       "                        <td id=\"T_660ca91a_25c7_11ea_9563_a44e31167cd8row7_col1\" class=\"data row7 col1\" >65,092</td>\n",
       "                        <td id=\"T_660ca91a_25c7_11ea_9563_a44e31167cd8row7_col2\" class=\"data row7 col2\" >61,045</td>\n",
       "                        <td id=\"T_660ca91a_25c7_11ea_9563_a44e31167cd8row7_col3\" class=\"data row7 col3\" >54,772</td>\n",
       "            </tr>\n",
       "    </tbody></table>"
      ],
      "text/plain": [
       "<pandas.io.formats.style.Styler at 0x1daa9967518>"
      ]
     },
     "metadata": {},
     "output_type": "display_data"
    }
   ],
   "source": [
    "tot_adj_cap_df, err = ek.get_data(stock_ric, ['TR.TotalDebt.ped',\n",
    "                                              'TR.TotalDebt',\n",
    "                                              'TR.MinorityInterestBSStmt',\n",
    "                                              'TR.RedeemablePreferredTtl',\n",
    "                                              'TR.PreferredStockNonRedeemableNet',\n",
    "                                              'TR.TotalEquity',\n",
    "                                              'TR.AccumulatedGoodwillAmortSuppl',\n",
    "                                              'TR.OperatingLeasePymtsDueinYear1',\n",
    "                                              'TR.OperatingLeasePymtsDueinYear2',\n",
    "                                              'TR.OperatingLeasePymtsDueinYear3',\n",
    "                                              'TR.OperatingLeasePymtsDueinYear4',\n",
    "                                              'TR.OperatingLeasePymtsDueinYear5',\n",
    "                                              'TR.OperatingLeasePymtsDueinYear6AndBeyond',],\n",
    "                                  {'Scale':'6', 'Period':'FY0:FY-3', 'Frq':'FY'})\n",
    "tot_adj_cap_df.drop('Instrument', axis=1, inplace=True)\n",
    "tot_adj_cap_df = tot_adj_cap_df.set_index(['Period End Date'])\n",
    "cost_of_debt = ek.get_data(stock_ric,'TR.WACCCostofDebt')[0].iloc[0,1]\n",
    "tmp_df = tot_adj_cap_df[['Operating Lease Payments Due in Year 1',\n",
    "                'Operating Lease Payments Due in Year 2',\n",
    "                'Operating Lease Payments Due in Year 3',\n",
    "                'Operating Lease Payments Due in Year 4',\n",
    "                'Operating Lease Payments Due in Year 5',\n",
    "                'Oper Lease Pmnts Due in Years 6 and Beyond']]\n",
    "tmp_df.insert(0,'Operating Lease Payments Due in Year 0',0)\n",
    "tot_adj_cap_df['Present Value of Operating Leases'] = tmp_df.apply(lambda x: np.npv(cost_of_debt, x), axis=1)\n",
    "tot_adj_cap_df.drop(columns = tmp_df.columns, errors='ignore', inplace=True)\n",
    "tot_adj_cap_df['Total Adjusted Capital'] = tot_adj_cap_df.sum(axis=1)\n",
    "display(tot_adj_cap_df.T.style.format('{:,.0f}'))"
   ]
  },
  {
   "cell_type": "markdown",
   "metadata": {},
   "source": [
    "### EVA\n",
    "Since WACC is calculated by Refinitiv StarMine analytics and can be directly retrieved from Eikon, we're now ready to calculate EVA. In addition to calculating EVA in dollar terms we're also calculating EVA as a percentage of Total Adjusted Capital."
   ]
  },
  {
   "cell_type": "code",
   "execution_count": 6,
   "metadata": {},
   "outputs": [
    {
     "data": {
      "text/html": [
       "<div>\n",
       "<style scoped>\n",
       "    .dataframe tbody tr th:only-of-type {\n",
       "        vertical-align: middle;\n",
       "    }\n",
       "\n",
       "    .dataframe tbody tr th {\n",
       "        vertical-align: top;\n",
       "    }\n",
       "\n",
       "    .dataframe thead th {\n",
       "        text-align: right;\n",
       "    }\n",
       "</style>\n",
       "<table border=\"1\" class=\"dataframe\">\n",
       "  <thead>\n",
       "    <tr style=\"text-align: right;\">\n",
       "      <th>Date</th>\n",
       "      <th>2018-12-31</th>\n",
       "      <th>2017-12-31</th>\n",
       "      <th>2016-12-31</th>\n",
       "      <th>2015-12-31</th>\n",
       "    </tr>\n",
       "  </thead>\n",
       "  <tbody>\n",
       "    <tr>\n",
       "      <th>Weighted Average Cost of Capital</th>\n",
       "      <td>7.92%</td>\n",
       "      <td>5.99%</td>\n",
       "      <td>6.44%</td>\n",
       "      <td>5.13%</td>\n",
       "    </tr>\n",
       "    <tr>\n",
       "      <th>NOPAT</th>\n",
       "      <td>12,704</td>\n",
       "      <td>13,054</td>\n",
       "      <td>13,389</td>\n",
       "      <td>14,837</td>\n",
       "    </tr>\n",
       "    <tr>\n",
       "      <th>Total Adjusted Capital</th>\n",
       "      <td>63,255</td>\n",
       "      <td>65,092</td>\n",
       "      <td>61,045</td>\n",
       "      <td>54,772</td>\n",
       "    </tr>\n",
       "    <tr>\n",
       "      <th>Cost of Capital</th>\n",
       "      <td>5,010</td>\n",
       "      <td>3,900</td>\n",
       "      <td>3,934</td>\n",
       "      <td>2,810</td>\n",
       "    </tr>\n",
       "    <tr>\n",
       "      <th>NOPAT Return on Adjusted Capital</th>\n",
       "      <td>20.08%</td>\n",
       "      <td>20.05%</td>\n",
       "      <td>21.93%</td>\n",
       "      <td>27.09%</td>\n",
       "    </tr>\n",
       "    <tr>\n",
       "      <th>Economic Value Added ($)</th>\n",
       "      <td>7,694</td>\n",
       "      <td>9,154</td>\n",
       "      <td>9,455</td>\n",
       "      <td>12,027</td>\n",
       "    </tr>\n",
       "    <tr>\n",
       "      <th>Economic Value Added (%)</th>\n",
       "      <td>12.16%</td>\n",
       "      <td>14.06%</td>\n",
       "      <td>15.49%</td>\n",
       "      <td>21.96%</td>\n",
       "    </tr>\n",
       "  </tbody>\n",
       "</table>\n",
       "</div>"
      ],
      "text/plain": [
       "Date                             2018-12-31 2017-12-31 2016-12-31 2015-12-31\n",
       "Weighted Average Cost of Capital      7.92%      5.99%      6.44%      5.13%\n",
       "NOPAT                                12,704     13,054     13,389     14,837\n",
       "Total Adjusted Capital               63,255     65,092     61,045     54,772\n",
       "Cost of Capital                       5,010      3,900      3,934      2,810\n",
       "NOPAT Return on Adjusted Capital     20.08%     20.05%     21.93%     27.09%\n",
       "Economic Value Added ($)              7,694      9,154      9,455     12,027\n",
       "Economic Value Added (%)             12.16%     14.06%     15.49%     21.96%"
      ]
     },
     "metadata": {},
     "output_type": "display_data"
    }
   ],
   "source": [
    "eva_df, err = ek.get_data(stock_ric,['TR.WACC.date','TR.WACC'],{'SDate':0, 'EDate':-3, 'Frq':'FY'})\n",
    "eva_df['Weighted Average Cost of Capital'] = eva_df['Weighted Average Cost of Capital, (%)'] / 100\n",
    "eva_df.drop(['Instrument','Weighted Average Cost of Capital, (%)'], axis=1, inplace=True)\n",
    "eva_df['Date'] = eva_df['Date'].str.slice(0,10)\n",
    "eva_df = eva_df.set_index(['Date'])\n",
    "eva_df['NOPAT'] = nopat_df['Net Operating Profit After Tax']\n",
    "eva_df['Total Adjusted Capital'] = tot_adj_cap_df['Total Adjusted Capital']\n",
    "eva_df['Cost of Capital'] = eva_df['Total Adjusted Capital'] * eva_df['Weighted Average Cost of Capital']\n",
    "eva_df['NOPAT Return on Adjusted Capital'] = eva_df['NOPAT'] / eva_df['Total Adjusted Capital']\n",
    "eva_df['Economic Value Added ($)'] = eva_df['NOPAT'] - eva_df['Cost of Capital']\n",
    "eva_df['Economic Value Added (%)'] = (eva_df['NOPAT Return on Adjusted Capital'] - \n",
    "                                     eva_df['Weighted Average Cost of Capital'])\n",
    "format_mapper = {'NOPAT':'{:,.0f}','Total Adjusted Capital':'{:,.0f}','Cost of Capital':'{:,.0f}',\n",
    "                 'Economic Value Added ($)':'{:,.0f}','Weighted Average Cost of Capital':'{:.2%}',\n",
    "                 'NOPAT Return on Adjusted Capital':'{:.2%}','Economic Value Added (%)':'{:.2%}'}\n",
    "display(eva_df.T.apply(lambda s: s.map(format_mapper.get(s.name).format), axis=1))"
   ]
  },
  {
   "cell_type": "code",
   "execution_count": 7,
   "metadata": {},
   "outputs": [
    {
     "data": {
      "image/png": "[encoded data removed]",
      "text/plain": [
       "<Figure size 1080x504 with 2 Axes>"
      ]
     },
     "metadata": {
      "needs_background": "light"
     },
     "output_type": "display_data"
    }
   ],
   "source": [
    "plot_df = pd.DataFrame({'EVA (' + curr + ' mln)': eva_df['Economic Value Added ($)'].tolist(),\n",
    "                       'EVA (%)': (eva_df['Economic Value Added (%)'] * 100).tolist()},\n",
    "                       index = eva_df.index.str.slice(0,4))\n",
    "ax = plot_df.plot.bar(secondary_y='EVA (%)', figsize=(15,7), \n",
    "                      title=company_info_df.loc[stock_ric,'Company Common Name'])\n",
    "ax.yaxis.set_major_formatter(matplotlib.ticker.StrMethodFormatter('{x:,.0f}'))"
   ]
  }
 ],
 "metadata": {
  "kernelspec": {
   "display_name": "Python 3",
   "language": "python",
   "name": "python3"
  },
  "language_info": {
   "codemirror_mode": {
    "name": "ipython",
    "version": 3
   },
   "file_extension": ".py",
   "mimetype": "text/x-python",
   "name": "python",
   "nbconvert_exporter": "python",
   "pygments_lexer": "ipython3",
   "version": "3.7.3"
  }
 },
 "nbformat": 4,
 "nbformat_minor": 2
}
